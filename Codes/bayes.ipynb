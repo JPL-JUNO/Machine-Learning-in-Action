{
 "cells": [
  {
   "cell_type": "code",
   "execution_count": 1,
   "metadata": {},
   "outputs": [],
   "source": [
    "import bayes\n",
    "import importlib"
   ]
  },
  {
   "cell_type": "code",
   "execution_count": 5,
   "metadata": {},
   "outputs": [
    {
     "data": {
      "text/plain": [
       "['problems',\n",
       " 'posting',\n",
       " 'food',\n",
       " 'quit',\n",
       " 'please',\n",
       " 'dog',\n",
       " 'stupid',\n",
       " 'love',\n",
       " 'park',\n",
       " 'ate',\n",
       " 'not',\n",
       " 'so',\n",
       " 'stop',\n",
       " 'how',\n",
       " 'mr',\n",
       " 'is',\n",
       " 'I',\n",
       " 'steak',\n",
       " 'has',\n",
       " 'flea',\n",
       " 'to',\n",
       " 'take',\n",
       " 'cute',\n",
       " 'help',\n",
       " 'worthless',\n",
       " 'dalmatian',\n",
       " 'licks',\n",
       " 'buying',\n",
       " 'him',\n",
       " 'maybe',\n",
       " 'my',\n",
       " 'garbage']"
      ]
     },
     "execution_count": 5,
     "metadata": {},
     "output_type": "execute_result"
    }
   ],
   "source": [
    "listOfPosts, listClasses = bayes.loadDataSet()\n",
    "myVocabList = bayes.createVocabList(listOfPosts)\n",
    "myVocabList"
   ]
  },
  {
   "cell_type": "code",
   "execution_count": 7,
   "metadata": {},
   "outputs": [
    {
     "data": {
      "text/plain": [
       "[1,\n",
       " 0,\n",
       " 0,\n",
       " 0,\n",
       " 1,\n",
       " 1,\n",
       " 0,\n",
       " 0,\n",
       " 0,\n",
       " 0,\n",
       " 0,\n",
       " 0,\n",
       " 0,\n",
       " 0,\n",
       " 0,\n",
       " 0,\n",
       " 0,\n",
       " 0,\n",
       " 1,\n",
       " 1,\n",
       " 0,\n",
       " 0,\n",
       " 0,\n",
       " 1,\n",
       " 0,\n",
       " 0,\n",
       " 0,\n",
       " 0,\n",
       " 0,\n",
       " 0,\n",
       " 1,\n",
       " 0]"
      ]
     },
     "execution_count": 7,
     "metadata": {},
     "output_type": "execute_result"
    }
   ],
   "source": [
    "bayes.setOfWord2Vec(myVocabList, listOfPosts[0])"
   ]
  },
  {
   "cell_type": "code",
   "execution_count": 13,
   "metadata": {},
   "outputs": [],
   "source": [
    "import numpy as np"
   ]
  },
  {
   "cell_type": "code",
   "execution_count": 56,
   "metadata": {},
   "outputs": [
    {
     "data": {
      "text/plain": [
       "<module 'bayes' from 'c:\\\\Notes\\\\Machine-Learning-in-Action\\\\Codes\\\\bayes.py'>"
      ]
     },
     "execution_count": 56,
     "metadata": {},
     "output_type": "execute_result"
    }
   ],
   "source": [
    "importlib.reload(bayes)"
   ]
  },
  {
   "cell_type": "code",
   "execution_count": 49,
   "metadata": {},
   "outputs": [],
   "source": [
    "myVocabList = bayes.createVocabList(listOfPosts)"
   ]
  },
  {
   "cell_type": "code",
   "execution_count": 51,
   "metadata": {},
   "outputs": [],
   "source": [
    "listOfPosts, listClasses = bayes.loadDataSet()"
   ]
  },
  {
   "cell_type": "code",
   "execution_count": 52,
   "metadata": {},
   "outputs": [],
   "source": [
    "myVocabList = bayes.createVocabList(listOfPosts)"
   ]
  },
  {
   "cell_type": "code",
   "execution_count": 53,
   "metadata": {},
   "outputs": [],
   "source": [
    "trainMat = []\n",
    "for postinDoc in listOfPosts:\n",
    "    trainMat.append(bayes.setOfWord2Vec(myVocabList, postinDoc))"
   ]
  },
  {
   "cell_type": "code",
   "execution_count": 57,
   "metadata": {},
   "outputs": [
    {
     "data": {
      "text/plain": [
       "(array([0.07692308, 0.03846154, 0.03846154, 0.03846154, 0.07692308,\n",
       "        0.07692308, 0.03846154, 0.07692308, 0.03846154, 0.07692308,\n",
       "        0.03846154, 0.07692308, 0.07692308, 0.07692308, 0.07692308,\n",
       "        0.07692308, 0.07692308, 0.07692308, 0.07692308, 0.07692308,\n",
       "        0.07692308, 0.03846154, 0.07692308, 0.07692308, 0.03846154,\n",
       "        0.07692308, 0.07692308, 0.03846154, 0.11538462, 0.03846154,\n",
       "        0.15384615, 0.03846154]),\n",
       " array([0.04761905, 0.0952381 , 0.0952381 , 0.0952381 , 0.04761905,\n",
       "        0.14285714, 0.19047619, 0.04761905, 0.0952381 , 0.04761905,\n",
       "        0.0952381 , 0.04761905, 0.0952381 , 0.04761905, 0.04761905,\n",
       "        0.04761905, 0.04761905, 0.04761905, 0.04761905, 0.04761905,\n",
       "        0.0952381 , 0.0952381 , 0.04761905, 0.04761905, 0.14285714,\n",
       "        0.04761905, 0.04761905, 0.0952381 , 0.0952381 , 0.0952381 ,\n",
       "        0.04761905, 0.0952381 ]),\n",
       " 0.5)"
      ]
     },
     "execution_count": 57,
     "metadata": {},
     "output_type": "execute_result"
    }
   ],
   "source": [
    "bayes.trainNB0(trainMat, listClasses)"
   ]
  },
  {
   "cell_type": "code",
   "execution_count": null,
   "metadata": {},
   "outputs": [],
   "source": []
  }
 ],
 "metadata": {
  "kernelspec": {
   "display_name": "Python 3",
   "language": "python",
   "name": "python3"
  },
  "language_info": {
   "codemirror_mode": {
    "name": "ipython",
    "version": 3
   },
   "file_extension": ".py",
   "mimetype": "text/x-python",
   "name": "python",
   "nbconvert_exporter": "python",
   "pygments_lexer": "ipython3",
   "version": "3.11.0"
  },
  "orig_nbformat": 4,
  "vscode": {
   "interpreter": {
    "hash": "7bc93c7453de9fdc1bd59af12257df80d301c9c5cff011373ccf01871d7f90c9"
   }
  }
 },
 "nbformat": 4,
 "nbformat_minor": 2
}
