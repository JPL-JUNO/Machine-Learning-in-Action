{
 "cells": [
  {
   "cell_type": "code",
   "execution_count": 1,
   "metadata": {},
   "outputs": [],
   "source": [
    "from numpy import *"
   ]
  },
  {
   "cell_type": "code",
   "execution_count": 3,
   "metadata": {},
   "outputs": [
    {
     "data": {
      "text/plain": [
       "array([[0.07790681, 0.89711756, 0.0966141 , 0.3862204 ],\n",
       "       [0.29170416, 0.15284136, 0.99208405, 0.34679148],\n",
       "       [0.5386302 , 0.03586983, 0.79008831, 0.46717441],\n",
       "       [0.47705241, 0.48347179, 0.8984437 , 0.1978255 ]])"
      ]
     },
     "execution_count": 3,
     "metadata": {},
     "output_type": "execute_result"
    }
   ],
   "source": [
    "random.rand(4, 4)"
   ]
  },
  {
   "attachments": {},
   "cell_type": "markdown",
   "metadata": {},
   "source": [
    "上述命令构造了一个4×4的随机数组，因为产生的是随机数组，不同计算机的输出结果可能与上述结果完全不同。"
   ]
  },
  {
   "attachments": {},
   "cell_type": "markdown",
   "metadata": {},
   "source": [
    "调用mat()函数可以将数组转化为矩阵："
   ]
  },
  {
   "cell_type": "code",
   "execution_count": 4,
   "metadata": {},
   "outputs": [],
   "source": [
    "randMat = mat(random.rand(4, 4))"
   ]
  },
  {
   "attachments": {},
   "cell_type": "markdown",
   "metadata": {},
   "source": [
    "```.I```操作符实现了矩阵求逆的运算。"
   ]
  },
  {
   "cell_type": "code",
   "execution_count": 5,
   "metadata": {},
   "outputs": [
    {
     "data": {
      "text/plain": [
       "matrix([[ 2.60458532, -1.8024931 ,  0.82802394,  0.48814992],\n",
       "        [-6.60873454,  2.2475187 , -0.81602468,  3.09657328],\n",
       "        [ 1.79285777, -0.75197478,  1.34060702, -1.21920688],\n",
       "        [ 0.83464334,  1.82698947, -1.12833936, -1.77323457]])"
      ]
     },
     "execution_count": 5,
     "metadata": {},
     "output_type": "execute_result"
    }
   ],
   "source": [
    "randMat.I"
   ]
  },
  {
   "cell_type": "code",
   "execution_count": 6,
   "metadata": {},
   "outputs": [],
   "source": [
    "invRandMat = randMat.I"
   ]
  },
  {
   "cell_type": "code",
   "execution_count": 7,
   "metadata": {},
   "outputs": [
    {
     "data": {
      "text/plain": [
       "matrix([[ 1.00000000e+00,  7.91183966e-17, -9.76411671e-17,\n",
       "          8.61220073e-17],\n",
       "        [-2.99461824e-16,  1.00000000e+00, -5.27233547e-17,\n",
       "          7.51532925e-17],\n",
       "        [-1.79255407e-16,  3.57792759e-17,  1.00000000e+00,\n",
       "         -1.54420578e-17],\n",
       "        [-1.45686372e-16, -1.25775438e-16, -2.77181101e-18,\n",
       "          1.00000000e+00]])"
      ]
     },
     "execution_count": 7,
     "metadata": {},
     "output_type": "execute_result"
    }
   ],
   "source": [
    "randMat * invRandMat"
   ]
  },
  {
   "attachments": {},
   "cell_type": "markdown",
   "metadata": {},
   "source": [
    "结果应该是单位矩阵，除了对角线元素是1，4×4矩阵的其他元素应该全是0。实际输出结果略有不同，矩阵里还留下了许多非常小的元素，这是计算机处理误差产生的结果。输入下述命令，得到误差值："
   ]
  },
  {
   "cell_type": "code",
   "execution_count": 8,
   "metadata": {},
   "outputs": [
    {
     "data": {
      "text/plain": [
       "matrix([[-4.44089210e-16,  7.91183966e-17, -9.76411671e-17,\n",
       "          8.61220073e-17],\n",
       "        [-2.99461824e-16,  0.00000000e+00, -5.27233547e-17,\n",
       "          7.51532925e-17],\n",
       "        [-1.79255407e-16,  3.57792759e-17,  0.00000000e+00,\n",
       "         -1.54420578e-17],\n",
       "        [-1.45686372e-16, -1.25775438e-16, -2.77181101e-18,\n",
       "          2.22044605e-16]])"
      ]
     },
     "execution_count": 8,
     "metadata": {},
     "output_type": "execute_result"
    }
   ],
   "source": [
    "myEye = randMat * invRandMat\n",
    "myEye - eye(4)"
   ]
  },
  {
   "attachments": {},
   "cell_type": "markdown",
   "metadata": {},
   "source": [
    "只要能够顺利地完成上述例子，就说明已经正确地安装了NumPy函数库，以后我们就可以利用它构造机器学习应用程序。"
   ]
  }
 ],
 "metadata": {
  "kernelspec": {
   "display_name": "Python 3",
   "language": "python",
   "name": "python3"
  },
  "language_info": {
   "codemirror_mode": {
    "name": "ipython",
    "version": 3
   },
   "file_extension": ".py",
   "mimetype": "text/x-python",
   "name": "python",
   "nbconvert_exporter": "python",
   "pygments_lexer": "ipython3",
   "version": "3.11.1"
  },
  "orig_nbformat": 4,
  "vscode": {
   "interpreter": {
    "hash": "396a362f18ad31e951a86f61f9a3a4e12dfb54f46cd2cbe166be0505e7769997"
   }
  }
 },
 "nbformat": 4,
 "nbformat_minor": 2
}
